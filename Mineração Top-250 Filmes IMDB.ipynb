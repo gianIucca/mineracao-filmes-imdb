{
 "cells": [
  {
   "cell_type": "code",
   "execution_count": 15,
   "id": "bcde3e71",
   "metadata": {},
   "outputs": [],
   "source": [
    "from bs4 import BeautifulSoup\n",
    "import requests \n",
    "import pandas as pd\n",
    "\n",
    "#Criando o dataframe\n",
    "filmes = pd.DataFrame(columns=['Name', 'Rank', 'Year', 'Rating'])\n",
    "\n",
    "try:\n",
    "    source = requests.get('https://www.imdb.com/chart/top/')\n",
    "    source.raise_for_status()\n",
    "    \n",
    "    soup = BeautifulSoup(source.text, 'html.parser')\n",
    "    \n",
    "    movies = soup.find('tbody', class_='lister-list').find_all('tr')\n",
    "    \n",
    "    for movie in movies:\n",
    "        name = movie.find('td', class_='titleColumn').a.text\n",
    "        rank = movie.find('td', class_='titleColumn').get_text(strip=True).split('.')[0]\n",
    "        year = movie.find('td', class_='titleColumn').span.text.strip('()')\n",
    "        rating = movie.find('td', class_='ratingColumn imdbRating').strong.text\n",
    "        \n",
    "        info = [name, rank, year, rating]\n",
    "        #Adicionando as informações linha por linha na última linha do dataframe\n",
    "        filmes.loc[len(filmes.index)] = info\n",
    "    \n",
    "except Exception as e:\n",
    "    print(e)\n",
    "\n",
    "\n",
    "#Transformando o index do dataframe para o ranking do filme \n",
    "filmes.set_index('Rank', inplace=True)\n",
    "\n",
    "filmes.to_excel('top_250_movies.xlsx')"
   ]
  }
 ],
 "metadata": {
  "kernelspec": {
   "display_name": "Python 3",
   "language": "python",
   "name": "python3"
  },
  "language_info": {
   "codemirror_mode": {
    "name": "ipython",
    "version": 3
   },
   "file_extension": ".py",
   "mimetype": "text/x-python",
   "name": "python",
   "nbconvert_exporter": "python",
   "pygments_lexer": "ipython3",
   "version": "3.8.8"
  }
 },
 "nbformat": 4,
 "nbformat_minor": 5
}
